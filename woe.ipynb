{
 "cells": [
  {
   "cell_type": "code",
   "execution_count": 112,
   "id": "24eaa57d",
   "metadata": {},
   "outputs": [],
   "source": [
    "import pandas as pd\n",
    "import matplotlib.pyplot as plt\n",
    "from sklearn.cluster import KMeans\n",
    "from sklearn.model_selection import train_test_split\n",
    "from sklearn.linear_model import LinearRegression\n",
    "from sklearn.ensemble import RandomForestRegressor\n",
    "from sklearn.metrics import mean_squared_error"
   ]
  },
  {
   "cell_type": "code",
   "execution_count": 113,
   "id": "b0da99f1",
   "metadata": {},
   "outputs": [],
   "source": [
    "import warnings\n",
    "warnings.filterwarnings('ignore')"
   ]
  },
  {
   "cell_type": "code",
   "execution_count": 114,
   "id": "44629a98",
   "metadata": {},
   "outputs": [
    {
     "ename": "FileNotFoundError",
     "evalue": "[Errno 2] No such file or directory: 'WEOOct2020all.xlsx'",
     "output_type": "error",
     "traceback": [
      "\u001b[1;31m---------------------------------------------------------------------------\u001b[0m",
      "\u001b[1;31mFileNotFoundError\u001b[0m                         Traceback (most recent call last)",
      "Cell \u001b[1;32mIn[114], line 1\u001b[0m\n\u001b[1;32m----> 1\u001b[0m df \u001b[38;5;241m=\u001b[39m \u001b[43mpd\u001b[49m\u001b[38;5;241;43m.\u001b[39;49m\u001b[43mread_excel\u001b[49m\u001b[43m(\u001b[49m\u001b[38;5;124;43m\"\u001b[39;49m\u001b[38;5;124;43mWEOOct2020all.xlsx\u001b[39;49m\u001b[38;5;124;43m\"\u001b[39;49m\u001b[43m)\u001b[49m\n\u001b[0;32m      3\u001b[0m \u001b[38;5;28;01mfor\u001b[39;00m year \u001b[38;5;129;01min\u001b[39;00m \u001b[38;5;28mrange\u001b[39m(\u001b[38;5;241m1980\u001b[39m, \u001b[38;5;241m2026\u001b[39m):\n\u001b[0;32m      4\u001b[0m     df[year] \u001b[38;5;241m=\u001b[39m pd\u001b[38;5;241m.\u001b[39mto_numeric(df[year]\u001b[38;5;241m.\u001b[39mstr\u001b[38;5;241m.\u001b[39mreplace(\u001b[38;5;124m'\u001b[39m\u001b[38;5;124m,\u001b[39m\u001b[38;5;124m'\u001b[39m, \u001b[38;5;124m'\u001b[39m\u001b[38;5;124m'\u001b[39m), errors\u001b[38;5;241m=\u001b[39m\u001b[38;5;124m'\u001b[39m\u001b[38;5;124mcoerce\u001b[39m\u001b[38;5;124m'\u001b[39m)\u001b[38;5;241m.\u001b[39mfillna(\u001b[38;5;241m0\u001b[39m)\n",
      "File \u001b[1;32m~\\AppData\\Local\\Programs\\Python\\Python312\\Lib\\site-packages\\pandas\\io\\excel\\_base.py:504\u001b[0m, in \u001b[0;36mread_excel\u001b[1;34m(io, sheet_name, header, names, index_col, usecols, dtype, engine, converters, true_values, false_values, skiprows, nrows, na_values, keep_default_na, na_filter, verbose, parse_dates, date_parser, date_format, thousands, decimal, comment, skipfooter, storage_options, dtype_backend, engine_kwargs)\u001b[0m\n\u001b[0;32m    502\u001b[0m \u001b[38;5;28;01mif\u001b[39;00m \u001b[38;5;129;01mnot\u001b[39;00m \u001b[38;5;28misinstance\u001b[39m(io, ExcelFile):\n\u001b[0;32m    503\u001b[0m     should_close \u001b[38;5;241m=\u001b[39m \u001b[38;5;28;01mTrue\u001b[39;00m\n\u001b[1;32m--> 504\u001b[0m     io \u001b[38;5;241m=\u001b[39m \u001b[43mExcelFile\u001b[49m\u001b[43m(\u001b[49m\n\u001b[0;32m    505\u001b[0m \u001b[43m        \u001b[49m\u001b[43mio\u001b[49m\u001b[43m,\u001b[49m\n\u001b[0;32m    506\u001b[0m \u001b[43m        \u001b[49m\u001b[43mstorage_options\u001b[49m\u001b[38;5;241;43m=\u001b[39;49m\u001b[43mstorage_options\u001b[49m\u001b[43m,\u001b[49m\n\u001b[0;32m    507\u001b[0m \u001b[43m        \u001b[49m\u001b[43mengine\u001b[49m\u001b[38;5;241;43m=\u001b[39;49m\u001b[43mengine\u001b[49m\u001b[43m,\u001b[49m\n\u001b[0;32m    508\u001b[0m \u001b[43m        \u001b[49m\u001b[43mengine_kwargs\u001b[49m\u001b[38;5;241;43m=\u001b[39;49m\u001b[43mengine_kwargs\u001b[49m\u001b[43m,\u001b[49m\n\u001b[0;32m    509\u001b[0m \u001b[43m    \u001b[49m\u001b[43m)\u001b[49m\n\u001b[0;32m    510\u001b[0m \u001b[38;5;28;01melif\u001b[39;00m engine \u001b[38;5;129;01mand\u001b[39;00m engine \u001b[38;5;241m!=\u001b[39m io\u001b[38;5;241m.\u001b[39mengine:\n\u001b[0;32m    511\u001b[0m     \u001b[38;5;28;01mraise\u001b[39;00m \u001b[38;5;167;01mValueError\u001b[39;00m(\n\u001b[0;32m    512\u001b[0m         \u001b[38;5;124m\"\u001b[39m\u001b[38;5;124mEngine should not be specified when passing \u001b[39m\u001b[38;5;124m\"\u001b[39m\n\u001b[0;32m    513\u001b[0m         \u001b[38;5;124m\"\u001b[39m\u001b[38;5;124man ExcelFile - ExcelFile already has the engine set\u001b[39m\u001b[38;5;124m\"\u001b[39m\n\u001b[0;32m    514\u001b[0m     )\n",
      "File \u001b[1;32m~\\AppData\\Local\\Programs\\Python\\Python312\\Lib\\site-packages\\pandas\\io\\excel\\_base.py:1563\u001b[0m, in \u001b[0;36mExcelFile.__init__\u001b[1;34m(self, path_or_buffer, engine, storage_options, engine_kwargs)\u001b[0m\n\u001b[0;32m   1561\u001b[0m     ext \u001b[38;5;241m=\u001b[39m \u001b[38;5;124m\"\u001b[39m\u001b[38;5;124mxls\u001b[39m\u001b[38;5;124m\"\u001b[39m\n\u001b[0;32m   1562\u001b[0m \u001b[38;5;28;01melse\u001b[39;00m:\n\u001b[1;32m-> 1563\u001b[0m     ext \u001b[38;5;241m=\u001b[39m \u001b[43minspect_excel_format\u001b[49m\u001b[43m(\u001b[49m\n\u001b[0;32m   1564\u001b[0m \u001b[43m        \u001b[49m\u001b[43mcontent_or_path\u001b[49m\u001b[38;5;241;43m=\u001b[39;49m\u001b[43mpath_or_buffer\u001b[49m\u001b[43m,\u001b[49m\u001b[43m \u001b[49m\u001b[43mstorage_options\u001b[49m\u001b[38;5;241;43m=\u001b[39;49m\u001b[43mstorage_options\u001b[49m\n\u001b[0;32m   1565\u001b[0m \u001b[43m    \u001b[49m\u001b[43m)\u001b[49m\n\u001b[0;32m   1566\u001b[0m     \u001b[38;5;28;01mif\u001b[39;00m ext \u001b[38;5;129;01mis\u001b[39;00m \u001b[38;5;28;01mNone\u001b[39;00m:\n\u001b[0;32m   1567\u001b[0m         \u001b[38;5;28;01mraise\u001b[39;00m \u001b[38;5;167;01mValueError\u001b[39;00m(\n\u001b[0;32m   1568\u001b[0m             \u001b[38;5;124m\"\u001b[39m\u001b[38;5;124mExcel file format cannot be determined, you must specify \u001b[39m\u001b[38;5;124m\"\u001b[39m\n\u001b[0;32m   1569\u001b[0m             \u001b[38;5;124m\"\u001b[39m\u001b[38;5;124man engine manually.\u001b[39m\u001b[38;5;124m\"\u001b[39m\n\u001b[0;32m   1570\u001b[0m         )\n",
      "File \u001b[1;32m~\\AppData\\Local\\Programs\\Python\\Python312\\Lib\\site-packages\\pandas\\io\\excel\\_base.py:1419\u001b[0m, in \u001b[0;36minspect_excel_format\u001b[1;34m(content_or_path, storage_options)\u001b[0m\n\u001b[0;32m   1416\u001b[0m \u001b[38;5;28;01mif\u001b[39;00m \u001b[38;5;28misinstance\u001b[39m(content_or_path, \u001b[38;5;28mbytes\u001b[39m):\n\u001b[0;32m   1417\u001b[0m     content_or_path \u001b[38;5;241m=\u001b[39m BytesIO(content_or_path)\n\u001b[1;32m-> 1419\u001b[0m \u001b[38;5;28;01mwith\u001b[39;00m \u001b[43mget_handle\u001b[49m\u001b[43m(\u001b[49m\n\u001b[0;32m   1420\u001b[0m \u001b[43m    \u001b[49m\u001b[43mcontent_or_path\u001b[49m\u001b[43m,\u001b[49m\u001b[43m \u001b[49m\u001b[38;5;124;43m\"\u001b[39;49m\u001b[38;5;124;43mrb\u001b[39;49m\u001b[38;5;124;43m\"\u001b[39;49m\u001b[43m,\u001b[49m\u001b[43m \u001b[49m\u001b[43mstorage_options\u001b[49m\u001b[38;5;241;43m=\u001b[39;49m\u001b[43mstorage_options\u001b[49m\u001b[43m,\u001b[49m\u001b[43m \u001b[49m\u001b[43mis_text\u001b[49m\u001b[38;5;241;43m=\u001b[39;49m\u001b[38;5;28;43;01mFalse\u001b[39;49;00m\n\u001b[0;32m   1421\u001b[0m \u001b[43m\u001b[49m\u001b[43m)\u001b[49m \u001b[38;5;28;01mas\u001b[39;00m handle:\n\u001b[0;32m   1422\u001b[0m     stream \u001b[38;5;241m=\u001b[39m handle\u001b[38;5;241m.\u001b[39mhandle\n\u001b[0;32m   1423\u001b[0m     stream\u001b[38;5;241m.\u001b[39mseek(\u001b[38;5;241m0\u001b[39m)\n",
      "File \u001b[1;32m~\\AppData\\Local\\Programs\\Python\\Python312\\Lib\\site-packages\\pandas\\io\\common.py:872\u001b[0m, in \u001b[0;36mget_handle\u001b[1;34m(path_or_buf, mode, encoding, compression, memory_map, is_text, errors, storage_options)\u001b[0m\n\u001b[0;32m    863\u001b[0m         handle \u001b[38;5;241m=\u001b[39m \u001b[38;5;28mopen\u001b[39m(\n\u001b[0;32m    864\u001b[0m             handle,\n\u001b[0;32m    865\u001b[0m             ioargs\u001b[38;5;241m.\u001b[39mmode,\n\u001b[1;32m   (...)\u001b[0m\n\u001b[0;32m    868\u001b[0m             newline\u001b[38;5;241m=\u001b[39m\u001b[38;5;124m\"\u001b[39m\u001b[38;5;124m\"\u001b[39m,\n\u001b[0;32m    869\u001b[0m         )\n\u001b[0;32m    870\u001b[0m     \u001b[38;5;28;01melse\u001b[39;00m:\n\u001b[0;32m    871\u001b[0m         \u001b[38;5;66;03m# Binary mode\u001b[39;00m\n\u001b[1;32m--> 872\u001b[0m         handle \u001b[38;5;241m=\u001b[39m \u001b[38;5;28;43mopen\u001b[39;49m\u001b[43m(\u001b[49m\u001b[43mhandle\u001b[49m\u001b[43m,\u001b[49m\u001b[43m \u001b[49m\u001b[43mioargs\u001b[49m\u001b[38;5;241;43m.\u001b[39;49m\u001b[43mmode\u001b[49m\u001b[43m)\u001b[49m\n\u001b[0;32m    873\u001b[0m     handles\u001b[38;5;241m.\u001b[39mappend(handle)\n\u001b[0;32m    875\u001b[0m \u001b[38;5;66;03m# Convert BytesIO or file objects passed with an encoding\u001b[39;00m\n",
      "\u001b[1;31mFileNotFoundError\u001b[0m: [Errno 2] No such file or directory: 'WEOOct2020all.xlsx'"
     ]
    }
   ],
   "source": [
    "df = pd.read_excel(\"WEOOct2020all.xlsx\")\n",
    "\n",
    "for year in range(1980, 2026):\n",
    "    df[year] = pd.to_numeric(df[year].str.replace(',', ''), errors='coerce').fillna(0)\n"
   ]
  },
  {
   "cell_type": "code",
   "execution_count": null,
   "id": "d0c6ba4f",
   "metadata": {},
   "outputs": [],
   "source": [
    "df.head()"
   ]
  },
  {
   "cell_type": "markdown",
   "id": "38df19da",
   "metadata": {},
   "source": [
    "### Top 10 countries that grew \"Gross domestic product per capita\" the most over the last decade"
   ]
  },
  {
   "cell_type": "code",
   "execution_count": null,
   "id": "84a37e8e",
   "metadata": {},
   "outputs": [],
   "source": [
    "gdp_data = df[df[\"WEO Subject Code\"] == \"NGDPRPPPPC\"]\n",
    "gdp_data"
   ]
  },
  {
   "cell_type": "code",
   "execution_count": null,
   "id": "199f6bee",
   "metadata": {},
   "outputs": [],
   "source": [
    "current_time = gdp_data[2023]\n",
    "ten_years_ago = gdp_data[2024]\n",
    "\n",
    "gdp_data['Growth'] = current_time - ten_years_ago"
   ]
  },
  {
   "cell_type": "code",
   "execution_count": null,
   "id": "86b3375a",
   "metadata": {},
   "outputs": [],
   "source": [
    "top10 = gdp_data.sort_values(by='Growth', ascending=False).head(10)"
   ]
  },
  {
   "cell_type": "code",
   "execution_count": null,
   "id": "832b1cee",
   "metadata": {},
   "outputs": [],
   "source": [
    "top10"
   ]
  },
  {
   "cell_type": "markdown",
   "id": "99bec2e6",
   "metadata": {},
   "source": [
    "### OECD countries' \"Population\" growth over the last decade"
   ]
  },
  {
   "cell_type": "code",
   "execution_count": null,
   "id": "f3600e24",
   "metadata": {},
   "outputs": [],
   "source": [
    "oecd_countries_iso_codes = [\n",
    "    'AUS', 'AUT', 'BEL', 'CAN', 'CHL', 'COL', 'CZE', 'DNK', 'EST', 'FIN',\n",
    "    'FRA', 'DEU', 'GRC', 'HUN', 'ISL', 'IRL', 'ISR', 'ITA', 'JPN', 'KOR',\n",
    "    'LVA', 'LTU', 'LUX', 'MEX', 'NLD', 'NZL', 'NOR', 'POL', 'PRT', 'SVK',\n",
    "    'SVN', 'ESP', 'SWE', 'CHE', 'TUR', 'GBR', 'USA',\n",
    "]"
   ]
  },
  {
   "cell_type": "code",
   "execution_count": null,
   "id": "317bbb70",
   "metadata": {},
   "outputs": [],
   "source": [
    "oecd_df = df[(df['ISO'].isin(oecd_countries_iso_codes)) & (df[\"Subject Descriptor\"] == \"Population\")]"
   ]
  },
  {
   "cell_type": "code",
   "execution_count": null,
   "id": "e2e87c00",
   "metadata": {},
   "outputs": [],
   "source": [
    "columns_to_keep = ['Country', 2013, 2014, 2015, 2016, 2017, 2018, 2019, 2020, 2021, 2022]\n",
    "oecd_population_df = oecd_df[columns_to_keep]"
   ]
  },
  {
   "cell_type": "code",
   "execution_count": null,
   "id": "5b37c74c",
   "metadata": {},
   "outputs": [],
   "source": [
    "oecd_population_df.set_index('Country', inplace=True)\n",
    "oecd_population_df_T = oecd_population_df.transpose()"
   ]
  },
  {
   "cell_type": "code",
   "execution_count": null,
   "id": "451f84b5",
   "metadata": {},
   "outputs": [],
   "source": [
    "plt.figure(figsize=(12, 8))\n",
    "oecd_population_df_T.plot(kind='line', marker='o')\n",
    "plt.title(\"OECD Countries' Population Growth Over the Last Decade\")\n",
    "plt.xlabel(\"Year\")\n",
    "plt.ylabel(\"Population\")\n",
    "plt.legend(title='Country', bbox_to_anchor=(1, 1))\n",
    "plt.show()\n"
   ]
  },
  {
   "cell_type": "markdown",
   "id": "e4a7b19d",
   "metadata": {},
   "source": [
    "### GDP growth figures in separate charts and save them as PNG files"
   ]
  },
  {
   "cell_type": "markdown",
   "id": "2df6fe63",
   "metadata": {},
   "source": [
    "Save the GDP growth figures in separate charts and save them as PNG files\n"
   ]
  },
  {
   "cell_type": "code",
   "execution_count": null,
   "id": "5c2c4a8f",
   "metadata": {},
   "outputs": [],
   "source": [
    "top10_filtered = top10[columns_to_keep]\n",
    "\n",
    "top10_filtered"
   ]
  },
  {
   "cell_type": "code",
   "execution_count": null,
   "id": "ecac2106",
   "metadata": {},
   "outputs": [],
   "source": [
    "for index, row in top10_filtered.iterrows():\n",
    "    country = row['Country']\n",
    "    years = [int(year) for year in top10_filtered.columns[1:]]\n",
    "    gdp_values = row[1:].values\n",
    "\n",
    "    plt.plot(years, gdp_values, marker='o')\n",
    "    plt.title(f'GDP Growth Over Years - {country}')\n",
    "    plt.xlabel('Year')\n",
    "    plt.ylabel('GDP')\n",
    "    plt.grid(True)\n",
    "    \n",
    "    # plt.savefig(f'{country}_GDP_Growth.png')\n",
    "    \n",
    "    plt.savefig(f'photos/{country}_GDP_Growth.png')\n",
    "\n",
    "    plt.clf()\n",
    "\n",
    "print(\"Saved successfully.\")\n"
   ]
  },
  {
   "cell_type": "markdown",
   "id": "75305593",
   "metadata": {},
   "source": [
    "### Task 4"
   ]
  },
  {
   "cell_type": "code",
   "execution_count": null,
   "id": "884e097d",
   "metadata": {},
   "outputs": [],
   "source": [
    "gdp_data = df[df['WEO Subject Code'] == 'NGDPRPPPPC'].drop(columns=['Subject Descriptor'])\n",
    "export_data = df[df['WEO Subject Code'] == 'TXG_RPCH'].drop(columns=['Subject Descriptor'])"
   ]
  },
  {
   "cell_type": "code",
   "execution_count": null,
   "id": "dec27dcc",
   "metadata": {},
   "outputs": [],
   "source": [
    "# Combine GDP and export data\n",
    "columns_to_keep = ['Country']\n",
    "for year in range(1980, 2026):\n",
    "    columns_to_keep.append(f\"{year}_gdp\")\n",
    "    columns_to_keep.append(f\"{year}_export\")\n",
    "combined_data = pd.merge(gdp_data, export_data, on='Country', suffixes=('_gdp', '_export'))\n",
    "combined_data = combined_data[columns_to_keep]\n",
    "combined_data"
   ]
  },
  {
   "cell_type": "code",
   "execution_count": null,
   "id": "da925b55",
   "metadata": {},
   "outputs": [],
   "source": [
    "# K-means clustering\n",
    "X = combined_data[columns_to_keep[1:]]\n",
    "kmeans = KMeans(n_clusters=5, random_state=42)\n",
    "combined_data['cluster'] = kmeans.fit_predict(X)\n",
    "\n",
    "# Plot the clusters and label top 5 countries based on GDP\n",
    "plt.figure(figsize=(20, 16))\n",
    "for i in range(5):\n",
    "    cluster_data = combined_data[combined_data['cluster'] == i]\n",
    "    plt.scatter(cluster_data['2023_gdp'], cluster_data['2023_export'], label=f'Cluster {i + 1}')\n",
    "\n",
    "# Add labels for the top 5 countries based on GDP in each cluster\n",
    "for i in range(5):\n",
    "    cluster_data = combined_data[combined_data['cluster'] == i]\n",
    "    top_countries = cluster_data.nlargest(5, '2018_gdp')\n",
    "    for _, country in top_countries.iterrows():\n",
    "        plt.annotate(country['Country'], (country['2023_gdp'], country['2023_export']))\n",
    "\n",
    "plt.xlabel('GDP')\n",
    "plt.ylabel('Volume of Exports')\n",
    "plt.title('Clusters of Countries based on GDP and Volume of Exports')\n",
    "plt.legend()\n",
    "plt.show()\n"
   ]
  },
  {
   "cell_type": "markdown",
   "id": "67deb7c9",
   "metadata": {},
   "source": [
    "### Task 5"
   ]
  },
  {
   "cell_type": "code",
   "execution_count": null,
   "id": "799eb5dd",
   "metadata": {},
   "outputs": [],
   "source": [
    "result = df[df[2015].notna()].groupby('Subject Descriptor')[2015].count().sort_values(ascending=False)\n",
    "result"
   ]
  },
  {
   "cell_type": "markdown",
   "id": "add60872",
   "metadata": {},
   "source": [
    "### Task 6"
   ]
  },
  {
   "cell_type": "code",
   "execution_count": null,
   "id": "b448c947",
   "metadata": {},
   "outputs": [],
   "source": [
    "!pip install pycountry-convert"
   ]
  },
  {
   "cell_type": "code",
   "execution_count": null,
   "id": "f4da1625",
   "metadata": {},
   "outputs": [],
   "source": [
    "import pycountry_convert as pc\n",
    "\n",
    "def country_to_continent(country_name):\n",
    "    try:\n",
    "        country_alpha2 = pc.country_name_to_country_alpha2(country_name)\n",
    "        country_continent_code = pc.country_alpha2_to_continent_code(country_alpha2)\n",
    "        country_continent_name = pc.convert_continent_code_to_continent_name(country_continent_code)\n",
    "        return country_continent_name\n",
    "    except:\n",
    "        return \"\""
   ]
  },
  {
   "cell_type": "code",
   "execution_count": null,
   "id": "68d5c926",
   "metadata": {},
   "outputs": [],
   "source": [
    "gdp_data = df.copy()\n",
    "\n",
    "# clear all gdp related rows related to GDP except NGDPRPPPPC\n",
    "exclude = [\n",
    "    \"PPPPC\",\n",
    "    \"NGDPDPC\",\n",
    "    \"NGDPPC\",\n",
    "    \"NGDPRPC\",\n",
    "    \"NGDP_D\",\n",
    "    \"PPPGDP\",\n",
    "    \"NGDPD\",\n",
    "    \"NGDP\",\n",
    "    \"NGDP_RPCH\",\n",
    "    \"NGDP_R\",\n",
    "    \"PPPSH\"\n",
    "]\n",
    "gdp_data = gdp_data[~gdp_data[\"WEO Subject Code\"].isin(exclude)].drop(\n",
    "    columns=[\n",
    "        \"WEO Country Code\",\n",
    "        \"ISO\",\n",
    "        \"Subject Notes\",\n",
    "        \"Subject Descriptor\",\n",
    "        \"Units\",\n",
    "        \"Scale\",\n",
    "        \"Country/Series-specific Notes\",\n",
    "        \"Estimates Start After\",\n",
    "    ]\n",
    ")\n",
    "\n",
    "gdp_data.head()"
   ]
  },
  {
   "cell_type": "code",
   "execution_count": null,
   "id": "632a0cd2",
   "metadata": {},
   "outputs": [],
   "source": [
    "melted_df = pd.melt(gdp_data, id_vars=['Country', 'WEO Subject Code'], var_name='year', value_name='value')\n",
    "\n",
    "gdp_data = melted_df.pivot_table(index=['year', 'Country'], columns='WEO Subject Code', values='value').reset_index()\n",
    "\n",
    "gdp_data = gdp_data.rename_axis(columns=None).reset_index()\n",
    "gdp_data.drop(columns='index', inplace=True)"
   ]
  },
  {
   "cell_type": "code",
   "execution_count": null,
   "id": "cb9b3d1d",
   "metadata": {},
   "outputs": [],
   "source": [
    "gdp_data[\"Continent\"] = gdp_data[\"Country\"].apply(country_to_continent)\n",
    "gdp_data.drop(columns=\"Country\", inplace=True)"
   ]
  },
  {
   "cell_type": "code",
   "execution_count": null,
   "id": "3e221337",
   "metadata": {},
   "outputs": [],
   "source": [
    "# X contains the features, y contains the target variable\n",
    "features = gdp_data.drop([\"NGDPRPPPPC\"], axis=1)\n",
    "target = gdp_data[\"NGDPRPPPPC\"]\n",
    "\n",
    "features_encoded = pd.get_dummies(features)\n",
    "\n",
    "# Split the data into training and testing sets\n",
    "X_train, X_test, y_train, y_test = train_test_split(\n",
    "    features_encoded, target, test_size=0.2, random_state=42\n",
    ")"
   ]
  },
  {
   "cell_type": "code",
   "execution_count": null,
   "id": "87f957ac",
   "metadata": {},
   "outputs": [],
   "source": [
    "# # Linear Regression\n",
    "\n",
    "# model = LinearRegression()\n",
    "\n",
    "# model.fit(X_train, y_train)\n",
    "\n",
    "# predictions = model.predict(X_test)\n",
    "\n",
    "# mse = mean_squared_error(y_test, predictions)\n",
    "# print(f\"Mean Squared Error: {mse}\")"
   ]
  },
  {
   "cell_type": "code",
   "execution_count": null,
   "id": "0ed1ea91",
   "metadata": {},
   "outputs": [],
   "source": [
    "# Random Forest \n",
    "\n",
    "model = RandomForestRegressor(max_depth=30)\n",
    "\n",
    "model.fit(X_train, y_train)\n",
    "\n",
    "predictions = model.predict(X_test)\n",
    "\n",
    "mse = mean_squared_error(y_test, predictions)\n",
    "print(f\"Mean Squared Error: {mse}\")"
   ]
  },
  {
   "cell_type": "code",
   "execution_count": null,
   "id": "3f58ca42",
   "metadata": {},
   "outputs": [],
   "source": [
    "print(list(zip(predictions, y_test))[:10])"
   ]
  },
  {
   "cell_type": "code",
   "execution_count": null,
   "id": "26a502dd",
   "metadata": {},
   "outputs": [],
   "source": [
    "feature_importances = model.feature_importances_\n",
    "\n",
    "# Create a DataFrame to display the feature importances\n",
    "feature_importance_df = pd.DataFrame(\n",
    "    {\"Feature\": features_encoded.columns, \"Importance\": feature_importances}\n",
    ")\n",
    "\n",
    "# print(feature_importance_df)\n",
    "\n",
    "# Sort the DataFrame by importance in descending order\n",
    "feature_importance_df = feature_importance_df.sort_values(\n",
    "    by=\"Importance\", ascending=False\n",
    ")\n",
    "\n",
    "# Display the top 5 features\n",
    "top_5_features = feature_importance_df.head(5)\n",
    "top_5_features = top_5_features.map(lambda x: \"Continent\" if type(x) == str and x.startswith(\"Continent\") else x)\n",
    "top_5_features"
   ]
  },
  {
   "cell_type": "markdown",
   "id": "308be7d6",
   "metadata": {},
   "source": [
    "### Train another predictor that uses those top 5 features"
   ]
  },
  {
   "cell_type": "code",
   "execution_count": null,
   "id": "9dd39b88",
   "metadata": {},
   "outputs": [],
   "source": [
    "selected_features = top_5_features[\"Feature\"].tolist() + [\"NGDPRPPPPC\"]\n",
    "\n",
    "new_gdp_data = gdp_data[selected_features]\n",
    "\n",
    "features = new_gdp_data[selected_features].drop([\"NGDPRPPPPC\"], axis=1)\n",
    "target = new_gdp_data[\"NGDPRPPPPC\"]\n",
    "\n",
    "features_encoded = pd.get_dummies(features)\n",
    "\n",
    "X_train, X_test, y_train, y_test = train_test_split(\n",
    "    features_encoded, target, test_size=0.2, random_state=42\n",
    ")\n",
    "\n",
    "model = RandomForestRegressor()\n",
    "\n",
    "model.fit(X_train, y_train)\n",
    "\n",
    "predictions = model.predict(X_test)\n",
    "\n",
    "mse = mean_squared_error(y_test, predictions)\n",
    "print(f\"Mean Squared Error: {mse}\")"
   ]
  },
  {
   "cell_type": "code",
   "execution_count": null,
   "id": "46b19b38",
   "metadata": {},
   "outputs": [],
   "source": [
    "features"
   ]
  },
  {
   "cell_type": "code",
   "execution_count": null,
   "id": "71635bcc",
   "metadata": {},
   "outputs": [],
   "source": [
    "print(list(zip(predictions, y_test))[:10])"
   ]
  },
  {
   "cell_type": "code",
   "execution_count": null,
   "id": "e1f3310b",
   "metadata": {},
   "outputs": [],
   "source": [
    "# export the model to a file\n",
    "import pickle\n",
    "\n",
    "with open(\"model.pkl\", \"wb\") as f:\n",
    "    pickle.dump(model, f)"
   ]
  },
  {
   "cell_type": "code",
   "execution_count": null,
   "id": "b009332a-0ca8-4ca3-90d1-0bfbdb94ae69",
   "metadata": {},
   "outputs": [],
   "source": []
  }
 ],
 "metadata": {
  "kernelspec": {
   "display_name": "Python 3 (ipykernel)",
   "language": "python",
   "name": "python3"
  },
  "language_info": {
   "codemirror_mode": {
    "name": "ipython",
    "version": 3
   },
   "file_extension": ".py",
   "mimetype": "text/x-python",
   "name": "python",
   "nbconvert_exporter": "python",
   "pygments_lexer": "ipython3",
   "version": "3.12.0"
  }
 },
 "nbformat": 4,
 "nbformat_minor": 5
}
